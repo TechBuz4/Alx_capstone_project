{
 "cells": [
  {
   "cell_type": "code",
   "execution_count": 1,
   "metadata": {},
   "outputs": [],
   "source": [
    "!django-admin startproject Tinash"
   ]
  },
  {
   "cell_type": "code",
   "execution_count": 2,
   "metadata": {},
   "outputs": [
    {
     "name": "stdout",
     "output_type": "stream",
     "text": [
      " Volume in drive C is OS\n",
      " Volume Serial Number is 8601-7E58\n",
      "\n",
      " Directory of c:\\Users\\chris\\alx\\new_alx\\Alx_capstone_project\n",
      "\n",
      "2025-03-23  11:41 AM    <DIR>          .\n",
      "2025-03-23  11:35 AM    <DIR>          ..\n",
      "2025-03-23  11:35 AM                22 README.md\n",
      "2025-03-23  11:41 AM    <DIR>          Tinash\n",
      "               1 File(s)             22 bytes\n",
      "               3 Dir(s)   3,120,963,584 bytes free\n"
     ]
    }
   ],
   "source": [
    "ls"
   ]
  },
  {
   "cell_type": "code",
   "execution_count": 3,
   "metadata": {},
   "outputs": [
    {
     "name": "stdout",
     "output_type": "stream",
     "text": [
      "c:\\Users\\chris\\alx\\new_alx\\Alx_capstone_project\\Tinash\n"
     ]
    }
   ],
   "source": [
    "%cd Tinash"
   ]
  },
  {
   "cell_type": "code",
   "execution_count": 4,
   "metadata": {},
   "outputs": [],
   "source": [
    "!python manage.py startapp api\n"
   ]
  },
  {
   "cell_type": "code",
   "execution_count": null,
   "metadata": {},
   "outputs": [],
   "source": []
  },
  {
   "cell_type": "code",
   "execution_count": null,
   "metadata": {},
   "outputs": [],
   "source": []
  }
 ],
 "metadata": {
  "kernelspec": {
   "display_name": "price",
   "language": "python",
   "name": "python3"
  },
  "language_info": {
   "codemirror_mode": {
    "name": "ipython",
    "version": 3
   },
   "file_extension": ".py",
   "mimetype": "text/x-python",
   "name": "python",
   "nbconvert_exporter": "python",
   "pygments_lexer": "ipython3",
   "version": "3.12.8"
  }
 },
 "nbformat": 4,
 "nbformat_minor": 2
}
