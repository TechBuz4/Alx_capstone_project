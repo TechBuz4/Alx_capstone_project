{
 "cells": [
  {
   "cell_type": "code",
   "execution_count": 1,
   "metadata": {},
   "outputs": [],
   "source": [
    "!django-admin startproject Tinash"
   ]
  },
  {
   "cell_type": "code",
   "execution_count": 3,
   "metadata": {},
   "outputs": [
    {
     "name": "stdout",
     "output_type": "stream",
     "text": [
      " Volume in drive C is OS\n",
      " Volume Serial Number is 8601-7E58\n",
      "\n",
      " Directory of c:\\Users\\chris\\alx\\new_alx\\Alx_capstone_project\\Tinash\\api\n",
      "\n",
      "2025-03-26  02:13 PM    <DIR>          .\n",
      "2025-03-23  11:56 AM    <DIR>          ..\n",
      "2025-03-23  11:41 AM                 0 __init__.py\n",
      "2025-03-23  11:56 AM    <DIR>          __pycache__\n",
      "2025-03-23  11:41 AM                66 admin.py\n",
      "2025-03-24  08:35 AM             3,062 alx_capstone.ipynb\n",
      "2025-03-23  11:41 AM               144 apps.py\n",
      "2025-03-23  11:56 AM    <DIR>          migrations\n",
      "2025-03-23  11:49 AM             2,289 models.py\n",
      "2025-03-23  11:41 AM                63 tests.py\n",
      "2025-03-23  11:41 AM                66 views.py\n",
      "               7 File(s)          5,690 bytes\n",
      "               4 Dir(s)   6,726,848,512 bytes free\n"
     ]
    }
   ],
   "source": [
    "ls"
   ]
  },
  {
   "cell_type": "code",
   "execution_count": 16,
   "metadata": {},
   "outputs": [
    {
     "name": "stdout",
     "output_type": "stream",
     "text": [
      "c:\\Users\\chris\\alx\\new_alx\\Alx_capstone_project\\Tinash\\Tinash\n"
     ]
    }
   ],
   "source": [
    "%cd ."
   ]
  },
  {
   "cell_type": "code",
   "execution_count": 2,
   "metadata": {},
   "outputs": [
    {
     "name": "stdout",
     "output_type": "stream",
     "text": [
      "c:\\Users\\chris\\alx\\new_alx\\Alx_capstone_project\\Tinash\n"
     ]
    }
   ],
   "source": [
    "cd c:\\Users\\chris\\alx\\new_alx\\Alx_capstone_project\\Tinash"
   ]
  },
  {
   "cell_type": "code",
   "execution_count": null,
   "metadata": {},
   "outputs": [],
   "source": [
    "#!python manage.py startapp api"
   ]
  },
  {
   "cell_type": "code",
   "execution_count": 25,
   "metadata": {},
   "outputs": [
    {
     "name": "stdout",
     "output_type": "stream",
     "text": [
      "No changes detected\n",
      "Operations to perform:\n",
      "  Apply all migrations: admin, api, auth, contenttypes, sessions\n",
      "Running migrations:\n",
      "  No migrations to apply.\n"
     ]
    }
   ],
   "source": [
    "!python manage.py makemigrations\n",
    "!python manage.py migrate"
   ]
  },
  {
   "cell_type": "code",
   "execution_count": 26,
   "metadata": {},
   "outputs": [
    {
     "name": "stdout",
     "output_type": "stream",
     "text": [
      "^C\n"
     ]
    }
   ],
   "source": [
    "!python manage.py runserver\n"
   ]
  },
  {
   "cell_type": "code",
   "execution_count": 15,
   "metadata": {},
   "outputs": [
    {
     "name": "stdout",
     "output_type": "stream",
     "text": [
      "^C\n"
     ]
    }
   ],
   "source": [
    "!python manage.py runserver"
   ]
  },
  {
   "cell_type": "code",
   "execution_count": 1,
   "metadata": {},
   "outputs": [
    {
     "name": "stdout",
     "output_type": "stream",
     "text": [
      "Name: djangorestframework\n",
      "Version: 3.15.2\n",
      "Summary: Web APIs for Django, made easy.\n",
      "Home-page: https://www.django-rest-framework.org/\n",
      "Author: Tom Christie\n",
      "Author-email: tom@tomchristie.com\n",
      "License: BSD\n",
      "Location: C:\\Users\\chris\\anaconda3\\envs\\price\\Lib\\site-packages\n",
      "Requires: django\n",
      "Required-by: \n"
     ]
    }
   ],
   "source": [
    "!pip show djangorestframework\n"
   ]
  },
  {
   "cell_type": "code",
   "execution_count": 3,
   "metadata": {},
   "outputs": [
    {
     "name": "stdout",
     "output_type": "stream",
     "text": [
      "\n",
      "Type 'manage.py help <subcommand>' for help on a specific subcommand.\n",
      "\n",
      "Available subcommands:\n",
      "\n",
      "[auth]\n",
      "    changepassword\n",
      "    createsuperuser\n",
      "\n",
      "[contenttypes]\n",
      "    remove_stale_contenttypes\n",
      "\n",
      "[django]\n",
      "    check\n",
      "    compilemessages\n",
      "    createcachetable\n",
      "    dbshell\n",
      "    diffsettings\n",
      "    dumpdata\n",
      "    flush\n",
      "    inspectdb\n",
      "    loaddata\n",
      "    makemessages\n",
      "    makemigrations\n",
      "    migrate\n",
      "    optimizemigration\n",
      "    sendtestemail\n",
      "    shell\n",
      "    showmigrations\n",
      "    sqlflush\n",
      "    sqlmigrate\n",
      "    sqlsequencereset\n",
      "    squashmigrations\n",
      "    startapp\n",
      "    startproject\n",
      "    test\n",
      "    testserver\n",
      "\n",
      "[rest_framework]\n",
      "    generateschema\n",
      "\n",
      "[sessions]\n",
      "    clearsessions\n",
      "\n",
      "[staticfiles]\n",
      "    collectstatic\n",
      "    findstatic\n",
      "    runserver\n"
     ]
    }
   ],
   "source": [
    "!python manage.py "
   ]
  },
  {
   "cell_type": "code",
   "execution_count": null,
   "metadata": {},
   "outputs": [],
   "source": [
    "!pip install djangorestframework-simplejwt"
   ]
  },
  {
   "cell_type": "code",
   "execution_count": null,
   "metadata": {},
   "outputs": [
    {
     "name": "stderr",
     "output_type": "stream",
     "text": [
      "Traceback (most recent call last):\n",
      "  File \"c:\\Users\\chris\\alx\\new_alx\\Alx_capstone_project\\Tinash\\manage.py\", line 22, in <module>\n",
      "    main()\n",
      "  File \"c:\\Users\\chris\\alx\\new_alx\\Alx_capstone_project\\Tinash\\manage.py\", line 18, in main\n",
      "    execute_from_command_line(sys.argv)\n",
      "  File \"c:\\Users\\chris\\anaconda3\\envs\\price\\Lib\\site-packages\\django\\core\\management\\__init__.py\", line 442, in execute_from_command_line\n",
      "    utility.execute()\n",
      "  File \"c:\\Users\\chris\\anaconda3\\envs\\price\\Lib\\site-packages\\django\\core\\management\\__init__.py\", line 416, in execute\n",
      "    django.setup()\n",
      "  File \"c:\\Users\\chris\\anaconda3\\envs\\price\\Lib\\site-packages\\django\\__init__.py\", line 24, in setup\n",
      "    apps.populate(settings.INSTALLED_APPS)\n",
      "  File \"c:\\Users\\chris\\anaconda3\\envs\\price\\Lib\\site-packages\\django\\apps\\registry.py\", line 91, in populate\n",
      "    app_config = AppConfig.create(entry)\n",
      "                 ^^^^^^^^^^^^^^^^^^^^^^^\n",
      "  File \"c:\\Users\\chris\\anaconda3\\envs\\price\\Lib\\site-packages\\django\\apps\\config.py\", line 193, in create\n",
      "    import_module(entry)\n",
      "  File \"c:\\Users\\chris\\anaconda3\\envs\\price\\Lib\\importlib\\__init__.py\", line 90, in import_module\n",
      "    return _bootstrap._gcd_import(name[level:], package, level)\n",
      "           ^^^^^^^^^^^^^^^^^^^^^^^^^^^^^^^^^^^^^^^^^^^^^^^^^^^^\n",
      "  File \"<frozen importlib._bootstrap>\", line 1387, in _gcd_import\n",
      "  File \"<frozen importlib._bootstrap>\", line 1360, in _find_and_load\n",
      "  File \"<frozen importlib._bootstrap>\", line 1324, in _find_and_load_unlocked\n",
      "ModuleNotFoundError: No module named 'Users'\n",
      "Traceback (most recent call last):\n",
      "  File \"c:\\Users\\chris\\alx\\new_alx\\Alx_capstone_project\\Tinash\\manage.py\", line 22, in <module>\n",
      "    main()\n",
      "  File \"c:\\Users\\chris\\alx\\new_alx\\Alx_capstone_project\\Tinash\\manage.py\", line 18, in main\n",
      "    execute_from_command_line(sys.argv)\n",
      "  File \"c:\\Users\\chris\\anaconda3\\envs\\price\\Lib\\site-packages\\django\\core\\management\\__init__.py\", line 442, in execute_from_command_line\n",
      "    utility.execute()\n",
      "  File \"c:\\Users\\chris\\anaconda3\\envs\\price\\Lib\\site-packages\\django\\core\\management\\__init__.py\", line 416, in execute\n",
      "    django.setup()\n",
      "  File \"c:\\Users\\chris\\anaconda3\\envs\\price\\Lib\\site-packages\\django\\__init__.py\", line 24, in setup\n",
      "    apps.populate(settings.INSTALLED_APPS)\n",
      "  File \"c:\\Users\\chris\\anaconda3\\envs\\price\\Lib\\site-packages\\django\\apps\\registry.py\", line 91, in populate\n",
      "    app_config = AppConfig.create(entry)\n",
      "                 ^^^^^^^^^^^^^^^^^^^^^^^\n",
      "  File \"c:\\Users\\chris\\anaconda3\\envs\\price\\Lib\\site-packages\\django\\apps\\config.py\", line 193, in create\n",
      "    import_module(entry)\n",
      "  File \"c:\\Users\\chris\\anaconda3\\envs\\price\\Lib\\importlib\\__init__.py\", line 90, in import_module\n",
      "    return _bootstrap._gcd_import(name[level:], package, level)\n",
      "           ^^^^^^^^^^^^^^^^^^^^^^^^^^^^^^^^^^^^^^^^^^^^^^^^^^^^\n",
      "  File \"<frozen importlib._bootstrap>\", line 1387, in _gcd_import\n",
      "  File \"<frozen importlib._bootstrap>\", line 1360, in _find_and_load\n",
      "  File \"<frozen importlib._bootstrap>\", line 1324, in _find_and_load_unlocked\n",
      "ModuleNotFoundError: No module named 'Users'\n"
     ]
    }
   ],
   "source": [
    "!python manage.py makemigrations users\n",
    "!python manage.py migrate\n"
   ]
  }
 ],
 "metadata": {
  "kernelspec": {
   "display_name": "price",
   "language": "python",
   "name": "python3"
  },
  "language_info": {
   "codemirror_mode": {
    "name": "ipython",
    "version": 3
   },
   "file_extension": ".py",
   "mimetype": "text/x-python",
   "name": "python",
   "nbconvert_exporter": "python",
   "pygments_lexer": "ipython3",
   "version": "3.12.8"
  }
 },
 "nbformat": 4,
 "nbformat_minor": 2
}
